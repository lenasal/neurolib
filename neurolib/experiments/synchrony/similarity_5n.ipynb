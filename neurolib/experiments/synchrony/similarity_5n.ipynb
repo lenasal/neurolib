{
 "cells": [
  {
   "cell_type": "code",
   "execution_count": 49,
   "metadata": {
    "collapsed": false,
    "pycharm": {
     "name": "#%%\n"
    }
   },
   "outputs": [
    {
     "name": "stdout",
     "output_type": "stream",
     "text": [
      "The autoreload extension is already loaded. To reload it, use:\n",
      "  %reload_ext autoreload\n"
     ]
    }
   ],
   "source": [
    "import matplotlib.pyplot as plt\n",
    "import numpy as np\n",
    "import os, scipy\n",
    "import matplotlib.colors as mcolors\n",
    "import networkx as nx\n",
    "import pickle\n",
    "from fastdtw import fastdtw\n",
    "from scipy.spatial.distance import euclidean\n",
    "\n",
    "if os.getcwd().split(os.sep)[-1] == \"examples\":\n",
    "    os.chdir('..')\n",
    "    os.chdir('..')\n",
    "    os.chdir('..')\n",
    "    os.chdir('..')\n",
    "\n",
    "# We import the model, stimuli, and the optimal control package\n",
    "from neurolib.models.wc import WCModel\n",
    "from neurolib.utils.stimulus import ZeroInput\n",
    "from neurolib.control.optimal_control import oc_wc, cost_functions\n",
    "from neurolib.control.optimal_control.oc_utils.plot_oc import plot_oc_nw\n",
    "\n",
    "# This will reload all imports as soon as the code changes\n",
    "%load_ext autoreload\n",
    "%autoreload 2\n",
    "\n",
    "options = {\n",
    "    'node_color': 'lightgray',\n",
    "    'node_size': 1000,\n",
    "    'width': 2,\n",
    "    'arrowstyle': '-|>',\n",
    "    'arrowsize': 20,\n",
    "    'font_size' : 20,\n",
    "    'font_weight' : 'bold',\n",
    "    }\n",
    "\n",
    "dir = \"images_5n\""
   ]
  },
  {
   "cell_type": "code",
   "execution_count": 56,
   "metadata": {},
   "outputs": [],
   "source": [
    "N = 5\n",
    "cmats = [0, 0, 0]\n",
    "points = [0, 0, 0, 0, 0]\n",
    "dt = 0.1\n",
    "w2_array = [0, 1]\n",
    "\n",
    "colors = []\n",
    "n = 0\n",
    "for col in mcolors.TABLEAU_COLORS:\n",
    "    colors.append(col)\n",
    "    n += 1\n",
    "    if n >= N: break\n",
    "\n",
    "def getperiod(x, dt):\n",
    "    periods = []\n",
    "    for n in range(x.shape[0]):\n",
    "        peaks = scipy.signal.find_peaks(x[n,:])[0]\n",
    "        for p in range(2, len(peaks)-1):\n",
    "            periods.append(peaks[p] - peaks[p-1])\n",
    "        \n",
    "        return np.mean(periods) * dt"
   ]
  },
  {
   "cell_type": "code",
   "execution_count": 112,
   "metadata": {},
   "outputs": [
    {
     "name": "stdout",
     "output_type": "stream",
     "text": [
      "dict_keys(['controls', 'periods', 'timings', 'states', 'nat_periods', 'w2'])\n"
     ]
    }
   ],
   "source": [
    "with open('snyc_5n.pickle', 'rb') as f:\n",
    "    res_read = pickle.load(f)\n",
    "    print(res_read.keys() )\n",
    "\n",
    "results = res_read.copy()"
   ]
  },
  {
   "cell_type": "code",
   "execution_count": 113,
   "metadata": {},
   "outputs": [
    {
     "name": "stdout",
     "output_type": "stream",
     "text": [
      "c, pind, imet, iw =  0 0 0\n"
     ]
    },
    {
     "ename": "TypeError",
     "evalue": "list indices must be integers or slices, not tuple",
     "output_type": "error",
     "traceback": [
      "\u001b[0;31m---------------------------------------------------------------------------\u001b[0m",
      "\u001b[0;31mTypeError\u001b[0m                                 Traceback (most recent call last)",
      "\u001b[1;32m/home/lena/Promotion/neurolib/neurolib/optimal_control/examples/synchrony/similarity_5n.ipynb Zelle 4\u001b[0m in \u001b[0;36m2\n\u001b[1;32m     <a href='vscode-notebook-cell:/home/lena/Promotion/neurolib/neurolib/optimal_control/examples/synchrony/similarity_5n.ipynb#X15sZmlsZQ%3D%3D?line=20'>21</a>\u001b[0m \u001b[39mif\u001b[39;00m plt_comp: fig, ax \u001b[39m=\u001b[39m plt\u001b[39m.\u001b[39msubplots(\u001b[39m1\u001b[39m,\u001b[39m5\u001b[39m, figsize\u001b[39m=\u001b[39m(\u001b[39m20\u001b[39m,\u001b[39m5\u001b[39m))\n\u001b[1;32m     <a href='vscode-notebook-cell:/home/lena/Promotion/neurolib/neurolib/optimal_control/examples/synchrony/similarity_5n.ipynb#X15sZmlsZQ%3D%3D?line=21'>22</a>\u001b[0m \u001b[39mfor\u001b[39;00m n \u001b[39min\u001b[39;00m \u001b[39mrange\u001b[39m(N):\n\u001b[0;32m---> <a href='vscode-notebook-cell:/home/lena/Promotion/neurolib/neurolib/optimal_control/examples/synchrony/similarity_5n.ipynb#X15sZmlsZQ%3D%3D?line=22'>23</a>\u001b[0m     peaks \u001b[39m=\u001b[39m scipy\u001b[39m.\u001b[39msignal\u001b[39m.\u001b[39mfind_peaks(\u001b[39m-\u001b[39mstate[n,\u001b[39m0\u001b[39;49m,:], prominence\u001b[39m=\u001b[39m\u001b[39m0.01\u001b[39m)[\u001b[39m0\u001b[39m]\n\u001b[1;32m     <a href='vscode-notebook-cell:/home/lena/Promotion/neurolib/neurolib/optimal_control/examples/synchrony/similarity_5n.ipynb#X15sZmlsZQ%3D%3D?line=23'>24</a>\u001b[0m     i0_0, i0_1 \u001b[39m=\u001b[39m peaks[\u001b[39m0\u001b[39m], peaks[\u001b[39m1\u001b[39m]\n\u001b[1;32m     <a href='vscode-notebook-cell:/home/lena/Promotion/neurolib/neurolib/optimal_control/examples/synchrony/similarity_5n.ipynb#X15sZmlsZQ%3D%3D?line=24'>25</a>\u001b[0m     cycle0 \u001b[39m=\u001b[39m state[n,\u001b[39m0\u001b[39m,i0_0:i0_1]\n",
      "\u001b[0;31mTypeError\u001b[0m: list indices must be integers or slices, not tuple"
     ]
    }
   ],
   "source": [
    "skip_array = [[2,1], [2,3], [2,4]]\n",
    "distsum = np.zeros((len(cmats), len(points),4))\n",
    "plt_comp = False\n",
    "\n",
    "for c in range(len(cmats)):\n",
    "\n",
    "    for pind in range(len(points)):\n",
    "\n",
    "        for imet in range(4):\n",
    "            \n",
    "            if [c, pind] in skip_array:\n",
    "                continue\n",
    "\n",
    "            print(\"c, pind, imet, iw = \", c, pind, imet)\n",
    "\n",
    "            if results[\"states\"][c][pind][imet] is None: continue\n",
    "\n",
    "            state = results[\"states\"][c][pind][imet]\n",
    "            time = np.arange(0, 200+dt, dt)\n",
    "\n",
    "            if plt_comp: fig, ax = plt.subplots(1,5, figsize=(20,5))\n",
    "            for n in range(N):\n",
    "                peaks = scipy.signal.find_peaks(-state[n,0,:], prominence=0.01)[0]\n",
    "                i0_0, i0_1 = peaks[0], peaks[1]\n",
    "                cycle0 = state[n,0,i0_0:i0_1]\n",
    "                time0 = time[i0_0:i0_1]\n",
    "                #print(peaks)\n",
    "\n",
    "                if n == 0:\n",
    "                    ii0 = 3\n",
    "                    while peaks[ii0] < 800:\n",
    "                        ii0 += 1\n",
    "                    iii0 = peaks[ii0]\n",
    "                    #print(iii0)\n",
    "                else:\n",
    "                    ii0 = 3\n",
    "                    while np.abs(iii0 - peaks[ii0]) > results[\"nat_periods\"][c, pind, imet]/dt:\n",
    "                        ii0 += 1\n",
    "                i1_0, i1_1 = peaks[ii0], peaks[ii0+1]\n",
    "                cycle1 = state[n,0,i1_0:i1_1]\n",
    "                time1 = time[i0_0:i0_0 + len(cycle1)]\n",
    "\n",
    "                dtw_distance, warp_path = fastdtw(cycle0, cycle1, dist=euclidean)\n",
    "                distsum[c, pind, imet] += dtw_distance\n",
    "\n",
    "                if plt_comp:\n",
    "                    ax[n].plot(time1, cycle1, color=colors[n], linestyle=\":\")\n",
    "                    ax[n].plot(time0, cycle0, color=colors[n], label=str(n))\n",
    "                    ax[n].set_title(\"n = \" + str(n))\n",
    "                    ax[n].set_ylim(0., 0.5)\n",
    "                    ax[n].text(0.95, 0.95, \"dist = \" + str(np.around(dtw_distance,2)), horizontalalignment=\"right\", transform=ax[n].transAxes)\n",
    "            \n",
    "            print(\"Distance sum = \", distsum[c, pind, imet])\n",
    "            \n",
    "            if plt_comp: plt.show()\n",
    "            "
   ]
  },
  {
   "cell_type": "code",
   "execution_count": 114,
   "metadata": {},
   "outputs": [
    {
     "data": {
      "image/png": "[encoded data removed]",
      "text/plain": [
       "<Figure size 2000x400 with 1 Axes>"
      ]
     },
     "metadata": {},
     "output_type": "display_data"
    }
   ],
   "source": [
    "xl = [ \"P0\", \"P1\", \"P2\", \"P3\", \"P4\"]\n",
    "\n",
    "xlabels = []\n",
    "fig = plt.figure(figsize =(20, 4))\n",
    "ax = fig.add_axes([0, 0, 1, 1])\n",
    "xpos = 0\n",
    "\n",
    "for c in range(len(cmats)):\n",
    "    for pind in range(len(points)):\n",
    "        for imet in range(4):\n",
    "\n",
    "            if imet == 0:\n",
    "                xlabels.append(xl[pind])\n",
    "            else:\n",
    "                xlabels.append(\" \")\n",
    "\n",
    "            if [c, pind] in skip_array:\n",
    "                xpos += 1\n",
    "                continue\n",
    "\n",
    "            ax.plot(xpos+1, distsum[c, pind, imet], linestyle=None, marker=\"x\", color=\"black\")\n",
    "            xpos += 1\n",
    "\n",
    "\n",
    "y0, y1 = 0, 25\n",
    "ax.set_xticks(np.arange(1., len(xlabels)+1., 1))\n",
    "ax.set_xticklabels(xlabels)\n",
    "ax.set_xlim(0.5, len(xlabels)+0.5)\n",
    "ax.set_ylim(y0, y1)\n",
    "for i in range(4):\n",
    "    ax.axvspan(0.5 + i*20, 4.5 + i*20, facecolor='lightgreen', alpha=0.2)\n",
    "    ax.axvspan(4.5 + i*20, 8.5 + i*20, facecolor='lightyellow', alpha=0.2)\n",
    "    ax.axvspan(8.5 + i*20, 12.5 + i*20, facecolor='lightblue', alpha=0.2)\n",
    "    ax.axvspan(12.5 + i*20, 16.5 + i*20, facecolor='lightpink', alpha=0.2)\n",
    "ax.vlines([20.5, 40.5], y0, y1, colors=[\"k\", \"k\"])\n",
    "ax.set_title(r\"Distance between controlled and uncontrolled $E$\")\n",
    "plt.show()\n",
    "fig.savefig(os.path.join(dir, \"dist.png\"), bbox_inches='tight')"
   ]
  },
  {
   "cell_type": "code",
   "execution_count": null,
   "metadata": {},
   "outputs": [],
   "source": []
  }
 ],
 "metadata": {
  "kernelspec": {
   "display_name": "Python 3 (ipykernel)",
   "language": "python",
   "name": "python3"
  },
  "language_info": {
   "codemirror_mode": {
    "name": "ipython",
    "version": 3
   },
   "file_extension": ".py",
   "mimetype": "text/x-python",
   "name": "python",
   "nbconvert_exporter": "python",
   "pygments_lexer": "ipython3",
   "version": "3.9.7"
  },
  "vscode": {
   "interpreter": {
    "hash": "31f2aee4e71d21fbe5cf8b01ff0e069b9275f58929596ceb00d14d90e3e16cd6"
   }
  }
 },
 "nbformat": 4,
 "nbformat_minor": 2
}
